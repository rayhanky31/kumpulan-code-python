{
 "cells": [
  {
   "cell_type": "code",
   "execution_count": 14,
   "id": "04d33c6e",
   "metadata": {},
   "outputs": [],
   "source": [
    "import pandas as pd\n",
    "import re\n",
    "import numpy as np\n",
    "import joblib\n",
    "import pickle\n",
    "from sklearn import model_selection\n",
    "from sklearn.linear_model import LogisticRegression\n",
    "from sklearn.multiclass import OneVsRestClassifier\n",
    "from sklearn.naive_bayes import MultinomialNB\n",
    "from sklearn.metrics import classification_report\n",
    "from sklearn.metrics import confusion_matrix\n",
    "from sklearn.model_selection import train_test_split\n",
    "from sklearn.feature_extraction.text import CountVectorizer\n",
    "from sklearn.feature_extraction.text import TfidfTransformer\n",
    "from sklearn.pipeline import Pipeline\n",
    "from sklearn.metrics import accuracy_score\n",
    "import seaborn as sns\n",
    "import matplotlib.pyplot as plt"
   ]
  },
  {
   "cell_type": "code",
   "execution_count": 6,
   "id": "2724c8e2",
   "metadata": {},
   "outputs": [
    {
     "data": {
      "text/html": [
       "<div>\n",
       "<style scoped>\n",
       "    .dataframe tbody tr th:only-of-type {\n",
       "        vertical-align: middle;\n",
       "    }\n",
       "\n",
       "    .dataframe tbody tr th {\n",
       "        vertical-align: top;\n",
       "    }\n",
       "\n",
       "    .dataframe thead th {\n",
       "        text-align: right;\n",
       "    }\n",
       "</style>\n",
       "<table border=\"1\" class=\"dataframe\">\n",
       "  <thead>\n",
       "    <tr style=\"text-align: right;\">\n",
       "      <th></th>\n",
       "      <th>Unnamed: 0</th>\n",
       "      <th>Label</th>\n",
       "      <th>tweet</th>\n",
       "      <th>Tokenization</th>\n",
       "      <th>Stop_Removal</th>\n",
       "      <th>Tweet_Stemmed</th>\n",
       "    </tr>\n",
       "  </thead>\n",
       "  <tbody>\n",
       "    <tr>\n",
       "      <th>0</th>\n",
       "      <td>0</td>\n",
       "      <td>Netral</td>\n",
       "      <td>apa dia ngerti</td>\n",
       "      <td>['apa', 'dia', 'ngerti']</td>\n",
       "      <td>['ngerti']</td>\n",
       "      <td>['ngerti']</td>\n",
       "    </tr>\n",
       "    <tr>\n",
       "      <th>1</th>\n",
       "      <td>1</td>\n",
       "      <td>Netral</td>\n",
       "      <td>NaN</td>\n",
       "      <td>['']</td>\n",
       "      <td>['']</td>\n",
       "      <td>['']</td>\n",
       "    </tr>\n",
       "    <tr>\n",
       "      <th>2</th>\n",
       "      <td>2</td>\n",
       "      <td>Negatif</td>\n",
       "      <td>suara sumbang ancam konstitusi marwah desa dii...</td>\n",
       "      <td>['suara', 'sumbang', 'ancam', 'konstitusi', 'm...</td>\n",
       "      <td>['suara', 'sumbang', 'ancam', 'konstitusi', 'm...</td>\n",
       "      <td>['suara', 'sumbang', 'ancam', 'konstitusi', 'm...</td>\n",
       "    </tr>\n",
       "    <tr>\n",
       "      <th>3</th>\n",
       "      <td>3</td>\n",
       "      <td>Negatif</td>\n",
       "      <td>banyak tong bahkan lbh baik siapa buka matamu ...</td>\n",
       "      <td>['banyak', 'tong', 'bahkan', 'lbh', 'baik', 's...</td>\n",
       "      <td>['tong', 'lbh', 'buka', 'matamu', 'gimmick', '...</td>\n",
       "      <td>['tong', 'lbh', 'buka', 'mata', 'gimmick', 'ak...</td>\n",
       "    </tr>\n",
       "    <tr>\n",
       "      <th>4</th>\n",
       "      <td>4</td>\n",
       "      <td>Negatif</td>\n",
       "      <td>jokowi klaim usulan periode dari masyarakat ma...</td>\n",
       "      <td>['jokowi', 'klaim', 'usulan', 'periode', 'dari...</td>\n",
       "      <td>['jokowi', 'klaim', 'usulan', 'periode', 'masy...</td>\n",
       "      <td>['jokowi', 'klaim', 'usul', 'periode', 'masyar...</td>\n",
       "    </tr>\n",
       "    <tr>\n",
       "      <th>...</th>\n",
       "      <td>...</td>\n",
       "      <td>...</td>\n",
       "      <td>...</td>\n",
       "      <td>...</td>\n",
       "      <td>...</td>\n",
       "      <td>...</td>\n",
       "    </tr>\n",
       "    <tr>\n",
       "      <th>110</th>\n",
       "      <td>110</td>\n",
       "      <td>Negatif</td>\n",
       "      <td>n pantesan getol banget mempertahankan periode...</td>\n",
       "      <td>['n', 'pantesan', 'getol', 'banget', 'memperta...</td>\n",
       "      <td>['n', 'pantesan', 'getol', 'banget', 'memperta...</td>\n",
       "      <td>['n', 'pantesan', 'getol', 'banget', 'tahan', ...</td>\n",
       "    </tr>\n",
       "    <tr>\n",
       "      <th>111</th>\n",
       "      <td>111</td>\n",
       "      <td>Netral</td>\n",
       "      <td>mau shaum sabtu atau ahad tdk jadi masalah pen...</td>\n",
       "      <td>['mau', 'shaum', 'sabtu', 'atau', 'ahad', 'tdk...</td>\n",
       "      <td>['shaum', 'sabtu', 'ahad', 'tdk', 'shaum', 'lu...</td>\n",
       "      <td>['shaum', 'sabtu', 'ahad', 'tdk', 'shaum', 'lu...</td>\n",
       "    </tr>\n",
       "    <tr>\n",
       "      <th>112</th>\n",
       "      <td>112</td>\n",
       "      <td>Netral</td>\n",
       "      <td>periode</td>\n",
       "      <td>['periode']</td>\n",
       "      <td>['periode']</td>\n",
       "      <td>['periode']</td>\n",
       "    </tr>\n",
       "    <tr>\n",
       "      <th>113</th>\n",
       "      <td>113</td>\n",
       "      <td>Negatif</td>\n",
       "      <td>ngurus hal receh ora gableg ngotot mau berkuas...</td>\n",
       "      <td>['ngurus', 'hal', 'receh', 'ora', 'gableg', 'n...</td>\n",
       "      <td>['ngurus', 'receh', 'ora', 'gableg', 'ngotot',...</td>\n",
       "      <td>['ngurus', 'receh', 'ora', 'gableg', 'ngotot',...</td>\n",
       "    </tr>\n",
       "    <tr>\n",
       "      <th>114</th>\n",
       "      <td>114</td>\n",
       "      <td>Netral</td>\n",
       "      <td>periode</td>\n",
       "      <td>['periode']</td>\n",
       "      <td>['periode']</td>\n",
       "      <td>['periode']</td>\n",
       "    </tr>\n",
       "  </tbody>\n",
       "</table>\n",
       "<p>115 rows × 6 columns</p>\n",
       "</div>"
      ],
      "text/plain": [
       "     Unnamed: 0    Label                                              tweet  \\\n",
       "0             0   Netral                                     apa dia ngerti   \n",
       "1             1   Netral                                                NaN   \n",
       "2             2  Negatif  suara sumbang ancam konstitusi marwah desa dii...   \n",
       "3             3  Negatif  banyak tong bahkan lbh baik siapa buka matamu ...   \n",
       "4             4  Negatif  jokowi klaim usulan periode dari masyarakat ma...   \n",
       "..          ...      ...                                                ...   \n",
       "110         110  Negatif  n pantesan getol banget mempertahankan periode...   \n",
       "111         111   Netral  mau shaum sabtu atau ahad tdk jadi masalah pen...   \n",
       "112         112   Netral                                            periode   \n",
       "113         113  Negatif  ngurus hal receh ora gableg ngotot mau berkuas...   \n",
       "114         114   Netral                                            periode   \n",
       "\n",
       "                                          Tokenization  \\\n",
       "0                             ['apa', 'dia', 'ngerti']   \n",
       "1                                                 ['']   \n",
       "2    ['suara', 'sumbang', 'ancam', 'konstitusi', 'm...   \n",
       "3    ['banyak', 'tong', 'bahkan', 'lbh', 'baik', 's...   \n",
       "4    ['jokowi', 'klaim', 'usulan', 'periode', 'dari...   \n",
       "..                                                 ...   \n",
       "110  ['n', 'pantesan', 'getol', 'banget', 'memperta...   \n",
       "111  ['mau', 'shaum', 'sabtu', 'atau', 'ahad', 'tdk...   \n",
       "112                                        ['periode']   \n",
       "113  ['ngurus', 'hal', 'receh', 'ora', 'gableg', 'n...   \n",
       "114                                        ['periode']   \n",
       "\n",
       "                                          Stop_Removal  \\\n",
       "0                                           ['ngerti']   \n",
       "1                                                 ['']   \n",
       "2    ['suara', 'sumbang', 'ancam', 'konstitusi', 'm...   \n",
       "3    ['tong', 'lbh', 'buka', 'matamu', 'gimmick', '...   \n",
       "4    ['jokowi', 'klaim', 'usulan', 'periode', 'masy...   \n",
       "..                                                 ...   \n",
       "110  ['n', 'pantesan', 'getol', 'banget', 'memperta...   \n",
       "111  ['shaum', 'sabtu', 'ahad', 'tdk', 'shaum', 'lu...   \n",
       "112                                        ['periode']   \n",
       "113  ['ngurus', 'receh', 'ora', 'gableg', 'ngotot',...   \n",
       "114                                        ['periode']   \n",
       "\n",
       "                                         Tweet_Stemmed  \n",
       "0                                           ['ngerti']  \n",
       "1                                                 ['']  \n",
       "2    ['suara', 'sumbang', 'ancam', 'konstitusi', 'm...  \n",
       "3    ['tong', 'lbh', 'buka', 'mata', 'gimmick', 'ak...  \n",
       "4    ['jokowi', 'klaim', 'usul', 'periode', 'masyar...  \n",
       "..                                                 ...  \n",
       "110  ['n', 'pantesan', 'getol', 'banget', 'tahan', ...  \n",
       "111  ['shaum', 'sabtu', 'ahad', 'tdk', 'shaum', 'lu...  \n",
       "112                                        ['periode']  \n",
       "113  ['ngurus', 'receh', 'ora', 'gableg', 'ngotot',...  \n",
       "114                                        ['periode']  \n",
       "\n",
       "[115 rows x 6 columns]"
      ]
     },
     "execution_count": 6,
     "metadata": {},
     "output_type": "execute_result"
    }
   ],
   "source": [
    "#Import data\n",
    "df=pd.read_csv(\"dataset_processing_clean.csv\")\n",
    "df"
   ]
  },
  {
   "cell_type": "code",
   "execution_count": 40,
   "id": "003292fd",
   "metadata": {},
   "outputs": [
    {
     "data": {
      "text/plain": [
       "<AxesSubplot:>"
      ]
     },
     "execution_count": 40,
     "metadata": {},
     "output_type": "execute_result"
    },
    {
     "data": {
      "image/png": "[encoded data removed]",
      "text/plain": [
       "<Figure size 432x288 with 1 Axes>"
      ]
     },
     "metadata": {},
     "output_type": "display_data"
    }
   ],
   "source": [
    "colors=['#fc035e','#035afc','#04cc83']\n",
    "sns.set(style=\"darkgrid\")\n",
    "df['Label'].value_counts().plot.bar(color=colors,figsize=(6,4))\n"
   ]
  },
  {
   "cell_type": "code",
   "execution_count": 41,
   "id": "b0169457",
   "metadata": {},
   "outputs": [
    {
     "data": {
      "text/plain": [
       "Negatif    47\n",
       "Netral     43\n",
       "Positif    25\n",
       "Name: Label, dtype: int64"
      ]
     },
     "execution_count": 41,
     "metadata": {},
     "output_type": "execute_result"
    }
   ],
   "source": [
    "df['Label'].value_counts()"
   ]
  },
  {
   "cell_type": "code",
   "execution_count": 7,
   "id": "1189102c",
   "metadata": {},
   "outputs": [],
   "source": [
    "def convert(polarity):\n",
    "    if polarity == \"Positif\":\n",
    "        return 1\n",
    "    elif polarity == \"Netral\":\n",
    "        return 0\n",
    "    else:\n",
    "        return -1"
   ]
  },
  {
   "cell_type": "code",
   "execution_count": 8,
   "id": "1bc175fb",
   "metadata": {},
   "outputs": [
    {
     "data": {
      "text/plain": [
       "0      0\n",
       "1      0\n",
       "2     -1\n",
       "3     -1\n",
       "4     -1\n",
       "      ..\n",
       "110   -1\n",
       "111    0\n",
       "112    0\n",
       "113   -1\n",
       "114    0\n",
       "Name: polarity, Length: 115, dtype: int64"
      ]
     },
     "execution_count": 8,
     "metadata": {},
     "output_type": "execute_result"
    }
   ],
   "source": [
    "df['polarity'] = df['Label'].apply(convert)\n",
    "df['polarity']"
   ]
  },
  {
   "cell_type": "code",
   "execution_count": 9,
   "id": "213de50d",
   "metadata": {},
   "outputs": [],
   "source": [
    "x = df['Tweet_Stemmed']\n",
    "y = df['polarity']"
   ]
  },
  {
   "cell_type": "code",
   "execution_count": 10,
   "id": "221f3b4d",
   "metadata": {},
   "outputs": [
    {
     "name": "stdout",
     "output_type": "stream",
     "text": [
      "(115,)\n",
      "[[0 0 0 ... 0 0 0]\n",
      " [0 0 0 ... 0 0 0]\n",
      " [0 0 0 ... 0 0 0]\n",
      " ...\n",
      " [0 0 0 ... 0 0 0]\n",
      " [0 0 0 ... 0 0 0]\n",
      " [0 0 0 ... 0 0 0]]\n",
      "Shape of Sparse Matrix:  (115, 432)\n",
      "Amount of Non-Zero Occurrences:  871\n",
      "(115, 432)\n"
     ]
    }
   ],
   "source": [
    "#vectorizer = CountVectorizer()\n",
    "#X = vectorizer.fit_transform(df['isi'])\n",
    "\n",
    "bow_transformer = CountVectorizer()\n",
    "print(df['Tweet_Stemmed'].shape)\n",
    "X = bow_transformer.fit_transform(df['Tweet_Stemmed'])\n",
    "\n",
    "print(X.toarray())\n",
    "print('Shape of Sparse Matrix: ', X.shape)\n",
    "print('Amount of Non-Zero Occurrences: ', X.nnz)\n",
    "\n",
    "#TFIDF Transform\n",
    "tf_transform = TfidfTransformer(use_idf=False).fit(X)\n",
    "X = tf_transform.transform(X)\n",
    "print(X.shape)"
   ]
  },
  {
   "cell_type": "code",
   "execution_count": 11,
   "id": "2c657d5e",
   "metadata": {},
   "outputs": [
    {
     "name": "stdout",
     "output_type": "stream",
     "text": [
      "Density: 1.753220611916264\n"
     ]
    }
   ],
   "source": [
    "density = (100.0 * X.nnz / (X.shape[0] * X.shape[1]))\n",
    "print('Density: {}'.format((density)))"
   ]
  },
  {
   "cell_type": "code",
   "execution_count": 24,
   "id": "73f190e4",
   "metadata": {},
   "outputs": [
    {
     "name": "stdout",
     "output_type": "stream",
     "text": [
      "  (0, 11)\t0.41702882811414954\n",
      "  (0, 41)\t0.20851441405707477\n",
      "  (0, 103)\t0.20851441405707477\n",
      "  (0, 123)\t0.20851441405707477\n",
      "  (0, 195)\t0.20851441405707477\n",
      "  (0, 201)\t0.20851441405707477\n",
      "  (0, 247)\t0.20851441405707477\n",
      "  (0, 284)\t0.20851441405707477\n",
      "  (0, 304)\t0.6255432421712244\n",
      "  (0, 317)\t0.20851441405707477\n",
      "  (0, 395)\t0.20851441405707477\n",
      "  (0, 405)\t0.20851441405707477\n",
      "  (1, 63)\t0.22360679774997896\n",
      "  (1, 75)\t0.4472135954999579\n",
      "  (1, 90)\t0.22360679774997896\n",
      "  (1, 161)\t0.22360679774997896\n",
      "  (1, 179)\t0.22360679774997896\n",
      "  (1, 185)\t0.22360679774997896\n",
      "  (1, 193)\t0.22360679774997896\n",
      "  (1, 200)\t0.22360679774997896\n",
      "  (1, 205)\t0.22360679774997896\n",
      "  (1, 247)\t0.22360679774997896\n",
      "  (1, 292)\t0.22360679774997896\n",
      "  (1, 304)\t0.4472135954999579\n",
      "  (1, 403)\t0.22360679774997896\n",
      "  :\t:\n",
      "  (15, 288)\t0.35355339059327373\n",
      "  (16, 304)\t1.0\n",
      "  (18, 13)\t0.4082482904638631\n",
      "  (18, 73)\t0.4082482904638631\n",
      "  (18, 148)\t0.4082482904638631\n",
      "  (18, 222)\t0.4082482904638631\n",
      "  (18, 263)\t0.4082482904638631\n",
      "  (18, 304)\t0.4082482904638631\n",
      "  (19, 304)\t0.7071067811865475\n",
      "  (19, 370)\t0.7071067811865475\n",
      "  (20, 5)\t0.2773500981126146\n",
      "  (20, 6)\t0.2773500981126146\n",
      "  (20, 219)\t0.2773500981126146\n",
      "  (20, 304)\t0.5547001962252291\n",
      "  (20, 339)\t0.2773500981126146\n",
      "  (20, 363)\t0.5547001962252291\n",
      "  (20, 385)\t0.2773500981126146\n",
      "  (21, 304)\t0.7071067811865475\n",
      "  (21, 305)\t0.7071067811865475\n",
      "  (22, 12)\t0.4082482904638631\n",
      "  (22, 33)\t0.4082482904638631\n",
      "  (22, 91)\t0.4082482904638631\n",
      "  (22, 150)\t0.4082482904638631\n",
      "  (22, 163)\t0.4082482904638631\n",
      "  (22, 304)\t0.4082482904638631\n"
     ]
    }
   ],
   "source": [
    "X_train, X_test, y_train, y_test = train_test_split(\n",
    "    X, y, test_size=0.2)\n",
    "print(X_test)"
   ]
  },
  {
   "cell_type": "code",
   "execution_count": 25,
   "id": "6be2b50f",
   "metadata": {},
   "outputs": [],
   "source": [
    "nb = MultinomialNB()\n",
    "nb.fit(X_train, y_train)\n",
    "preds = nb.predict(X_test)"
   ]
  },
  {
   "cell_type": "code",
   "execution_count": 30,
   "id": "d2dd750b",
   "metadata": {},
   "outputs": [
    {
     "data": {
      "text/plain": [
       "array([[10,  1,  0],\n",
       "       [ 3,  7,  0],\n",
       "       [ 2,  0,  0]], dtype=int64)"
      ]
     },
     "execution_count": 30,
     "metadata": {},
     "output_type": "execute_result"
    }
   ],
   "source": [
    "confusion_matrix(y_test,preds)"
   ]
  },
  {
   "cell_type": "code",
   "execution_count": 28,
   "id": "0933914e",
   "metadata": {},
   "outputs": [
    {
     "name": "stdout",
     "output_type": "stream",
     "text": [
      "              precision    recall  f1-score   support\n",
      "\n",
      "          -1       0.67      0.91      0.77        11\n",
      "           0       0.88      0.70      0.78        10\n",
      "           1       0.00      0.00      0.00         2\n",
      "\n",
      "    accuracy                           0.74        23\n",
      "   macro avg       0.51      0.54      0.52        23\n",
      "weighted avg       0.70      0.74      0.71        23\n",
      "\n"
     ]
    },
    {
     "name": "stderr",
     "output_type": "stream",
     "text": [
      "C:\\Users\\rayha\\anaconda3\\lib\\site-packages\\sklearn\\metrics\\_classification.py:1245: UndefinedMetricWarning: Precision and F-score are ill-defined and being set to 0.0 in labels with no predicted samples. Use `zero_division` parameter to control this behavior.\n",
      "  _warn_prf(average, modifier, msg_start, len(result))\n",
      "C:\\Users\\rayha\\anaconda3\\lib\\site-packages\\sklearn\\metrics\\_classification.py:1245: UndefinedMetricWarning: Precision and F-score are ill-defined and being set to 0.0 in labels with no predicted samples. Use `zero_division` parameter to control this behavior.\n",
      "  _warn_prf(average, modifier, msg_start, len(result))\n",
      "C:\\Users\\rayha\\anaconda3\\lib\\site-packages\\sklearn\\metrics\\_classification.py:1245: UndefinedMetricWarning: Precision and F-score are ill-defined and being set to 0.0 in labels with no predicted samples. Use `zero_division` parameter to control this behavior.\n",
      "  _warn_prf(average, modifier, msg_start, len(result))\n"
     ]
    }
   ],
   "source": [
    "print(classification_report(y_test, preds))"
   ]
  },
  {
   "cell_type": "code",
   "execution_count": null,
   "id": "4c7fcc09",
   "metadata": {},
   "outputs": [],
   "source": []
  }
 ],
 "metadata": {
  "kernelspec": {
   "display_name": "Python 3",
   "language": "python",
   "name": "python3"
  },
  "language_info": {
   "codemirror_mode": {
    "name": "ipython",
    "version": 3
   },
   "file_extension": ".py",
   "mimetype": "text/x-python",
   "name": "python",
   "nbconvert_exporter": "python",
   "pygments_lexer": "ipython3",
   "version": "3.8.8"
  }
 },
 "nbformat": 4,
 "nbformat_minor": 5
}
